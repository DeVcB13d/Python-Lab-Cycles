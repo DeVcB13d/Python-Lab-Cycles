{
  "nbformat": 4,
  "nbformat_minor": 0,
  "metadata": {
    "colab": {
      "name": "c1p5.ipynb",
      "provenance": [],
      "authorship_tag": "ABX9TyOWIc+18cOsFAOMxdoc6vdz",
      "include_colab_link": true
    },
    "kernelspec": {
      "name": "python3",
      "display_name": "Python 3"
    },
    "language_info": {
      "name": "python"
    }
  },
  "cells": [
    {
      "cell_type": "markdown",
      "metadata": {
        "id": "view-in-github",
        "colab_type": "text"
      },
      "source": [
        "<a href=\"https://colab.research.google.com/github/DeVcB13d/Python-Lab-Cycles/blob/CS-Lab/c1p5.ipynb\" target=\"_parent\"><img src=\"https://colab.research.google.com/assets/colab-badge.svg\" alt=\"Open In Colab\"/></a>"
      ]
    },
    {
      "cell_type": "code",
      "execution_count": null,
      "metadata": {
        "colab": {
          "base_uri": "https://localhost:8080/"
        },
        "id": "LmDuxwzhlhWO",
        "outputId": "fc420adf-eeb0-4839-d538-0615ce3f42e6"
      },
      "outputs": [
        {
          "output_type": "stream",
          "name": "stdout",
          "text": [
            "\n",
            "a\n",
            "ab\n",
            "abc\n",
            "abcd\n",
            "\n",
            "b\n",
            "bc\n",
            "bcd\n",
            "\n",
            "c\n",
            "cd\n",
            "\n",
            "d\n",
            "\n"
          ]
        }
      ],
      "source": [
        "#Funtion to print all possible substrings\n",
        "def get_all_substrings(str1):\n",
        "  for i in range(0,len(str1)+1):\n",
        "    k = len(str1) - i\n",
        "    for j in range(i,k+i+1):\n",
        "      print(str1[i:j])\n",
        "\n",
        "get_all_substrings(\"abcd\")"
      ]
    },
    {
      "cell_type": "code",
      "source": [
        "#Function to print all possible substrings of length K\n",
        "def subs_len(str1,K):\n",
        "  for i in range(0,len(str1)+1):\n",
        "    k = len(str1) - i\n",
        "    for j in range(i,k+i+1):\n",
        "      stk = str1[i:j]\n",
        "      if len(stk) == K :\n",
        "        print(stk)\n",
        "subs_len(\"abcd\",3)"
      ],
      "metadata": {
        "colab": {
          "base_uri": "https://localhost:8080/"
        },
        "id": "pzAPpkxpsuXk",
        "outputId": "e0b4d853-5643-42bb-b973-fd8513171f69"
      },
      "execution_count": null,
      "outputs": [
        {
          "output_type": "stream",
          "name": "stdout",
          "text": [
            "abc\n",
            "bcd\n"
          ]
        }
      ]
    },
    {
      "cell_type": "code",
      "source": [
        "#Function to Print all possible substrings \n",
        "#of length K with N distinct characters.\n",
        "def subs_lenK_uniN(str1,K,N):\n",
        "    for i in range(0,len(str1)+1):\n",
        "      k = len(str1) - i\n",
        "      for j in range(i,k+i+1):\n",
        "        stk = str1[i:j]\n",
        "        isuni = True\n",
        "        if len(stk) == K :\n",
        "          set2 = set(stk)\n",
        "          if len(set2) == len(stk):\n",
        "            print(stk)\n",
        "subs_lenK_uniN(\"aadddff\",2,1)"
      ],
      "metadata": {
        "id": "BJFt-rTYsskX"
      },
      "execution_count": null,
      "outputs": []
    },
    {
      "cell_type": "code",
      "source": [
        "#Function to print substring of length maximum length with N distinct\n",
        "# characters\n",
        "\n",
        "def MaxlenN_distinct(str1,N):\n",
        "  for i in range(0,len(str1)+1):\n",
        "      k = len(str1) - i\n",
        "      for j in range(i,k+i+1):\n",
        "        stk = str1[i:j]\n",
        "        isuni = True\n",
        "        if len(stk) == N :\n",
        "          set2 = set(stk)\n",
        "          if len(set2) == len(stk):\n",
        "            print(stk)\n",
        "MaxlenN_distinct(\"dcdc\",2)"
      ],
      "metadata": {
        "id": "bBIHPjTPssmJ"
      },
      "execution_count": null,
      "outputs": []
    },
    {
      "cell_type": "code",
      "source": [
        "#Function to print Palindrome substrings\n",
        "def Palindrome_substrings(str1):\n",
        "  for i in range(0,len(str1)+1):\n",
        "    k = len(str1) - i\n",
        "    for j in range(i,k+i+1):\n",
        "      stk = str1[i:j]\n",
        "      stkrev = stk[::-1]\n",
        "      if stk == stkrev :\n",
        "        print(stk)\n",
        "Palindrome_substrings(\"abbaba\")"
      ],
      "metadata": {
        "id": "jLpvk0Gj1kZL"
      },
      "execution_count": null,
      "outputs": []
    },
    {
      "cell_type": "code",
      "source": [
        ""
      ],
      "metadata": {
        "id": "xy1iofdiKJTF"
      },
      "execution_count": null,
      "outputs": []
    }
  ]
}
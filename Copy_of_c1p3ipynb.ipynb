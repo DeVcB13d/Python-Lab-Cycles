{
  "nbformat": 4,
  "nbformat_minor": 0,
  "metadata": {
    "colab": {
      "name": "Copy of c1p3ipynb",
      "provenance": [],
      "authorship_tag": "ABX9TyM81pMhHMqedYVWTyU2m6BU",
      "include_colab_link": true
    },
    "kernelspec": {
      "name": "python3",
      "display_name": "Python 3"
    },
    "language_info": {
      "name": "python"
    }
  },
  "cells": [
    {
      "cell_type": "markdown",
      "metadata": {
        "id": "view-in-github",
        "colab_type": "text"
      },
      "source": [
        "<a href=\"https://colab.research.google.com/github/DeVcB13d/Python-Lab-Cycles/blob/CS-Lab/Copy_of_c1p3ipynb.ipynb\" target=\"_parent\"><img src=\"https://colab.research.google.com/assets/colab-badge.svg\" alt=\"Open In Colab\"/></a>"
      ]
    },
    {
      "cell_type": "code",
      "execution_count": null,
      "metadata": {
        "id": "Qg2OU3-kPomi"
      },
      "outputs": [],
      "source": [
        "Ename = input(\"Enter employee Name: \")\n",
        "Ecode = int(input(\"Enter your code: \"))\n",
        "Bpay =float(input(\"Enter the basic pay: \"))\n",
        "\n",
        "def gross_salary(pay):\n",
        "  if pay <= 10000 :\n",
        "    Bp = pay + pay*0.05 + pay*0.025 + 500\n",
        "  elif 10000 < pay <= 30000 :\n",
        "    Bp = pay + pay*(0.075) + pay * 0.05 + 2500 \n",
        "  elif 30000 < pay <=  50000:\n",
        "    Bp = pay + pay * 0.11 + pay * 0.075\n"
      ]
    }
  ]
}
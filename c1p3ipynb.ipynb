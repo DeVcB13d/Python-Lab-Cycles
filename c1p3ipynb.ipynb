{
  "nbformat": 4,
  "nbformat_minor": 0,
  "metadata": {
    "colab": {
      "name": "c1p3ipynb",
      "provenance": [],
      "authorship_tag": "ABX9TyPSm/MRHY9fMNFmGMkvN/iP",
      "include_colab_link": true
    },
    "kernelspec": {
      "name": "python3",
      "display_name": "Python 3"
    },
    "language_info": {
      "name": "python"
    }
  },
  "cells": [
    {
      "cell_type": "markdown",
      "metadata": {
        "id": "view-in-github",
        "colab_type": "text"
      },
      "source": [
        "<a href=\"https://colab.research.google.com/github/DeVcB13d/Python-Lab-Cycles/blob/CS-Lab/c1p3ipynb.ipynb\" target=\"_parent\"><img src=\"https://colab.research.google.com/assets/colab-badge.svg\" alt=\"Open In Colab\"/></a>"
      ]
    },
    {
      "cell_type": "code",
      "execution_count": null,
      "metadata": {
        "id": "Qg2OU3-kPomi"
      },
      "outputs": [],
      "source": [
        "\n",
        "def gross_salary(pay):\n",
        "  if pay <= 10000 :\n",
        "    gs = pay + pay*0.05 + pay*0.025 + 500\n",
        "  elif 10000 < pay <= 30000 :\n",
        "    gs = pay + pay*(0.075) + pay * 0.05 + 2500 \n",
        "  elif 30000 < pay <=  50000:\n",
        "    gs = pay + pay * 0.11 + pay * 0.075 + 5000\n",
        "  else:\n",
        "    gs = pay + pay*0.25 + pay*0.11 + 7000\n",
        "  return gs"
      ]
    },
    {
      "cell_type": "code",
      "source": [
        "def Deduction(pay):\n",
        "  if pay <= 10000 :\n",
        "    d = 20 + pay\n",
        "  elif 10000 < pay <= 30000 :\n",
        "    d = 60 + pay*0.8 \n",
        "  elif 30000 < pay <=  50000:\n",
        "    d = 60 + pay*0.11 + pay*0.11\n",
        "  else:\n",
        "    d = 80 + pay*0.12 + pay*0.2\n",
        "  return d\n"
      ],
      "metadata": {
        "id": "VC_qP20TWER2"
      },
      "execution_count": null,
      "outputs": []
    },
    {
      "cell_type": "code",
      "source": [
        "def NetSal(GS,D):\n",
        "  return (GS - D)"
      ],
      "metadata": {
        "id": "7YWOUyAkWsjO"
      },
      "execution_count": null,
      "outputs": []
    },
    {
      "cell_type": "code",
      "source": [
        "def paycheck():\n",
        "  Ename = input(\"Enter employee Name: \")\n",
        "  Ecode = int(input(\"Enter your code: \"))\n",
        "  Bpay =float(input(\"Enter the basic pay: \"))\n",
        "\n",
        "  Gsal = gross_salary(Bpay)\n",
        "  Ded = Deduction(Bpay)\n",
        "  Net = NetSal(Gsal,Ded)\n",
        "\n",
        "  print(\"\\n\\nPayslip \\n:\")\n",
        "  print(\"Employee Name :\",Ename)\n",
        "  print(\"Employee Code :\",Ecode)\n",
        "  print(\"\\nSalary Details\\n\")\n",
        "  print(\"Basic Pay    : \",Bpay)\n",
        "  print(\"Gross Salary : \",Gsal)\n",
        "  print(\"Deduction    : \",Ded)\n",
        "  print(\"Net Salary   : \",Net)\n",
        "\n",
        "paycheck()"
      ],
      "metadata": {
        "colab": {
          "base_uri": "https://localhost:8080/"
        },
        "id": "HwfCXi1PX7US",
        "outputId": "6d9229d5-06bb-4664-ec08-426888df20c6"
      },
      "execution_count": null,
      "outputs": [
        {
          "output_type": "stream",
          "name": "stdout",
          "text": [
            "Enter employee Name: Dev C B\n",
            "Enter your code: 13\n",
            "Enter the basic pay: 15000\n",
            "\n",
            "\n",
            "Payslip \n",
            ":\n",
            "Employee Name : Dev C B\n",
            "Employee Code : 13\n",
            "\n",
            "Salary Details\n",
            "\n",
            "Basic Pay    :  15000.0\n",
            "Gross Salary :  19375.0\n",
            "Deduction    :  12060.0\n",
            "Net Salary   :  7315.0\n"
          ]
        }
      ]
    }
  ]
}
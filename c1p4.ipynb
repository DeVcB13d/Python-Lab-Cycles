{
  "nbformat": 4,
  "nbformat_minor": 0,
  "metadata": {
    "colab": {
      "name": "c1p4.ipynb",
      "provenance": [],
      "authorship_tag": "ABX9TyNGGg9fGKHfwRMLzHJxXtIM",
      "include_colab_link": true
    },
    "kernelspec": {
      "name": "python3",
      "display_name": "Python 3"
    },
    "language_info": {
      "name": "python"
    }
  },
  "cells": [
    {
      "cell_type": "markdown",
      "metadata": {
        "id": "view-in-github",
        "colab_type": "text"
      },
      "source": [
        "<a href=\"https://colab.research.google.com/github/DeVcB13d/Python-Lab-Cycles/blob/CS-Lab/c1p4.ipynb\" target=\"_parent\"><img src=\"https://colab.research.google.com/assets/colab-badge.svg\" alt=\"Open In Colab\"/></a>"
      ]
    },
    {
      "cell_type": "code",
      "execution_count": null,
      "metadata": {
        "id": "Uumyg4j_caAM"
      },
      "outputs": [],
      "source": [
        "def HappyCheck(n):\n",
        "  tn = n\n",
        "  sum = 0\n",
        "  isHappy = False\n",
        "  ctrl = 0\n",
        "  while ctrl <= 100:\n",
        "    tn2 = tn\n",
        "    sum = 0\n",
        "    while tn2:\n",
        "      rem = tn2%10\n",
        "      sum += rem**2\n",
        "      tn2 = tn2//10\n",
        "    if sum == 1 :\n",
        "      isHappy = True\n",
        "      break\n",
        "    else: \n",
        "      tn = sum\n",
        "    ctrl+=1\n",
        "  return isHappy\n",
        "\n",
        "\n"
      ]
    },
    {
      "cell_type": "code",
      "source": [
        "def HappyRange(ll,ul):\n",
        "  for i in range(ll,ul+1):\n",
        "    if HappyCheck(i) == True :\n",
        "      print(i,end = \",\")\n"
      ],
      "metadata": {
        "id": "0bcvBgfdj8HV"
      },
      "execution_count": null,
      "outputs": []
    },
    {
      "cell_type": "code",
      "source": [
        "def firstHappy(N):\n",
        "  for i in range(1,N):\n",
        "    if HappyCheck(i) == True :\n",
        "      print(i,end = \",\")\n",
        "\n"
      ],
      "metadata": {
        "id": "OrrIPMGnk7pf"
      },
      "execution_count": null,
      "outputs": []
    },
    {
      "cell_type": "code",
      "source": [
        "HappyRange(50,100)\n",
        "print()\n",
        "firstHappy(100)\n",
        "print()\n",
        "print(HappyCheck(12))\n",
        "print()\n",
        "print(HappyCheck(13))"
      ],
      "metadata": {
        "colab": {
          "base_uri": "https://localhost:8080/"
        },
        "id": "KXlNuuQClAYf",
        "outputId": "576d7707-e132-4a2f-b189-f2ddb9837106"
      },
      "execution_count": null,
      "outputs": [
        {
          "output_type": "stream",
          "name": "stdout",
          "text": [
            "68,70,79,82,86,91,94,97,100,\n",
            "1,7,10,13,19,23,28,31,32,44,49,68,70,79,82,86,91,94,97,\n",
            "False\n",
            "\n",
            "True\n"
          ]
        }
      ]
    }
  ]
}
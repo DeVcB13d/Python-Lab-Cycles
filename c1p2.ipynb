{
  "nbformat": 4,
  "nbformat_minor": 0,
  "metadata": {
    "colab": {
      "name": "c1p2.ipynb",
      "provenance": [],
      "authorship_tag": "ABX9TyMjlUsLaHqcp3AEBbdTwvpr",
      "include_colab_link": true
    },
    "kernelspec": {
      "name": "python3",
      "display_name": "Python 3"
    },
    "language_info": {
      "name": "python"
    }
  },
  "cells": [
    {
      "cell_type": "markdown",
      "metadata": {
        "id": "view-in-github",
        "colab_type": "text"
      },
      "source": [
        "<a href=\"https://colab.research.google.com/github/DeVcB13d/Python-Lab-Cycles/blob/CS-Lab/c1p2.ipynb\" target=\"_parent\"><img src=\"https://colab.research.google.com/assets/colab-badge.svg\" alt=\"Open In Colab\"/></a>"
      ]
    },
    {
      "cell_type": "markdown",
      "source": [
        "\n",
        "\n",
        "Develop a program to read the three sides of two triangles and\n",
        "calculate the area of both. Define a function to read the three sides\n",
        "and call it. Also, define a function to calculate the area. Print the total\n",
        "area enclosed by both triangles and each triangle's contribution (%)\n",
        "towards it.\n",
        "\n",
        "\n",
        "\n"
      ],
      "metadata": {
        "id": "_ZRM1SXcKy82"
      }
    },
    {
      "cell_type": "code",
      "execution_count": null,
      "metadata": {
        "colab": {
          "base_uri": "https://localhost:8080/"
        },
        "id": "q6tNhqhOKvsh",
        "outputId": "4b28ef4b-19b0-4b7e-9ff8-9c84710a91de"
      },
      "outputs": [
        {
          "output_type": "stream",
          "name": "stdout",
          "text": [
            "Enter the side lengths of triangle 1\n",
            "side1 : 2\n",
            "side2 : 3\n",
            "side3 : 4\n",
            "Enter the side lengths of triangle 2\n",
            "side1 : 4\n",
            "side2 : 3\n",
            "side3 : 2\n",
            "Total Area =  5.809475019311125\n",
            "Triangle 1 gives  50.0 % of the total area\n",
            "Triangle 2 gives  50.0 % of the total area\n"
          ]
        }
      ],
      "source": [
        "def Area(a,b,c):\n",
        "  s = (a+b+c)/2\n",
        "  Area_1 = ((s*(s-a)*(s-b)*(s-c))**(1/2))\n",
        "  return Area_1\n",
        "def  perc_contrib(Ar,ar1,ar2):\n",
        "  p1 = (ar1/Ar)*100\n",
        "  print(\"Triangle 1 gives \",p1,\"% of the total area\")\n",
        "  p2 = (ar2/Ar)*100\n",
        "  print(\"Triangle 2 gives \",p2,\"% of the total area\")\n",
        "\n",
        "#inputs of triangle \n",
        "print(\"Enter the side lengths of triangle 1\")\n",
        "A1 = int(input(\"side1 : \"))\n",
        "A2 = int(input(\"side2 : \"))\n",
        "A3 = int(input(\"side3 : \"))\n",
        "\n",
        "print(\"Enter the side lengths of triangle 2\")\n",
        "B1 = int(input(\"side1 : \"))\n",
        "B2 = int(input(\"side2 : \"))\n",
        "B3 = int(input(\"side3 : \"))\n",
        "\n",
        "#Total area\n",
        "\n",
        "Ar1 = Area(A1,A2,A3) \n",
        "Ar2 = Area(B1,B2,B3)\n",
        "\n",
        "\n",
        "\n",
        "#Percentage contributions\n",
        "\n",
        "T_area = Ar1 + Ar2\n",
        "print(\"Total Area = \",T_area)\n",
        "perc_contrib(T_area,Ar1,Ar2)\n",
        "\n"
      ]
    }
  ]
}
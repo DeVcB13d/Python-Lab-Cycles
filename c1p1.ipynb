{
  "nbformat": 4,
  "nbformat_minor": 0,
  "metadata": {
    "colab": {
      "name": "c1p1.ipynb",
      "provenance": [],
      "collapsed_sections": [],
      "authorship_tag": "ABX9TyPCBynH2qN1w7N5jV/ULjb9",
      "include_colab_link": true
    },
    "kernelspec": {
      "name": "python3",
      "display_name": "Python 3"
    },
    "language_info": {
      "name": "python"
    }
  },
  "cells": [
    {
      "cell_type": "markdown",
      "metadata": {
        "id": "view-in-github",
        "colab_type": "text"
      },
      "source": [
        "<a href=\"https://colab.research.google.com/github/DeVcB13d/Python-Lab-Cycles/blob/CS-Lab/c1p1.ipynb\" target=\"_parent\"><img src=\"https://colab.research.google.com/assets/colab-badge.svg\" alt=\"Open In Colab\"/></a>"
      ]
    },
    {
      "cell_type": "markdown",
      "source": [
        "# Question 1\n",
        "\n",
        "```\n",
        "Develop a program to read a four-digit number and find its\n",
        "a. Sum of digits\n",
        "b. Reverse\n",
        "c. Difference between the product of digits at the odd position\n",
        "and the product of digits at the even position.\n",
        "```\n",
        "\n"
      ],
      "metadata": {
        "id": "AngZBp3av8lI"
      }
    },
    {
      "cell_type": "code",
      "source": [
        "N = int(input(\"Enter a 4 digit number: \"))\n",
        "d1 = N%10\n",
        "d2 =(N//10)%10\n",
        "d3 = (N//100)%10\n",
        "d4 = (N//1000)%10\n",
        "\n",
        "#To get sum of digits\n",
        "\n",
        "sum = d1+d2+d3+d4\n",
        "print(sum)\n",
        "\n",
        "rev = d4 + d2*10 + d3*100 + d4*1000\n",
        "print(rev)\n",
        "\n",
        "diff = (d2*d4) - (d1*d3)\n",
        "print(diff)\n",
        "\n",
        "\n"
      ],
      "metadata": {
        "colab": {
          "base_uri": "https://localhost:8080/"
        },
        "id": "tncbgQmSG-ZD",
        "outputId": "3581cc3c-9b00-4948-c7c3-41dfd11ba266"
      },
      "execution_count": 5,
      "outputs": [
        {
          "output_type": "stream",
          "name": "stdout",
          "text": [
            "Enter a 4 digit number: 1234\n",
            "10\n",
            "1231\n",
            "-5\n"
          ]
        }
      ]
    }
  ]
}
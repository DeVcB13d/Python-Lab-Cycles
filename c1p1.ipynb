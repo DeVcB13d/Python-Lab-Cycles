{
  "nbformat": 4,
  "nbformat_minor": 0,
  "metadata": {
    "colab": {
      "name": "c1p1.ipynb",
      "provenance": [],
      "collapsed_sections": [],
      "authorship_tag": "ABX9TyOudcKs3RqmpSEgrgOm5qlV",
      "include_colab_link": true
    },
    "kernelspec": {
      "name": "python3",
      "display_name": "Python 3"
    },
    "language_info": {
      "name": "python"
    }
  },
  "cells": [
    {
      "cell_type": "markdown",
      "metadata": {
        "id": "view-in-github",
        "colab_type": "text"
      },
      "source": [
        "<a href=\"https://colab.research.google.com/github/DeVcB13d/Python-Lab-Cycles/blob/CS-Lab/c1p1.ipynb\" target=\"_parent\"><img src=\"https://colab.research.google.com/assets/colab-badge.svg\" alt=\"Open In Colab\"/></a>"
      ]
    },
    {
      "cell_type": "markdown",
      "source": [
        "\n",
        "\n",
        "```\n",
        "Develop a program to read a four-digit number and find its\n",
        "a. Sum of digits\n",
        "b. Reverse\n",
        "c. Difference between the product of digits at the odd position\n",
        "and the product of digits at the even position.\n",
        "```\n",
        "\n"
      ],
      "metadata": {
        "id": "AngZBp3av8lI"
      }
    },
    {
      "cell_type": "code",
      "source": [
        "def nDigits(num):\n",
        "  N = 0\n",
        "  tnum = num\n",
        "  while tnum > 0 :\n",
        "    N+=1\n",
        "    tnum//=10\n",
        "  return N\n"
      ],
      "metadata": {
        "id": "NaTwIMYerw57"
      },
      "execution_count": 10,
      "outputs": []
    },
    {
      "cell_type": "code",
      "execution_count": 11,
      "metadata": {
        "id": "5EnWoO4yv2cV"
      },
      "outputs": [],
      "source": [
        "def digitsum(num):\n",
        "  sum = 0 \n",
        "  tempnum = num\n",
        "  while tempnum > 0: \n",
        "    rem = tempnum % 10\n",
        "    sum+=rem\n",
        "    tempnum//=10\n",
        "  return sum\n"
      ]
    },
    {
      "cell_type": "code",
      "source": [
        "def reverse(num):\n",
        "  rev= 0 \n",
        "  pow = nDigits(num) - 1\n",
        "  tempnum = num\n",
        "  while tempnum > 0:\n",
        "    rem = tempnum % 10 \n",
        "    rev += rem*(10**pow)\n",
        "    pow-=1\n",
        "    tempnum = tempnum //10\n",
        "  return rev\n",
        "\n",
        "reverse(2345)\n",
        "    \n"
      ],
      "metadata": {
        "id": "wV8p7BEpv8Oj",
        "colab": {
          "base_uri": "https://localhost:8080/"
        },
        "outputId": "d738b865-5a93-4ca3-bdd9-8a358ae4196b"
      },
      "execution_count": 12,
      "outputs": [
        {
          "output_type": "execute_result",
          "data": {
            "text/plain": [
              "5432"
            ]
          },
          "metadata": {},
          "execution_count": 12
        }
      ]
    },
    {
      "cell_type": "code",
      "source": [
        "def odd_even_pdtdiff(num):\n",
        "  ev_pdt = 1\n",
        "  od_pdt = 1\n",
        "  place = 1\n",
        "  tnum = num\n",
        "  \n",
        "  while tnum > 0:\n",
        "    rem = tnum%10\n",
        "    if place%2 == 0 :\n",
        "      ev_pdt*=rem\n",
        "    else:\n",
        "      od_pdt*=rem\n",
        "    place+=1\n",
        "    tnum//=10\n",
        "  sum = ev_pdt - od_pdt\n",
        "  return sum\n",
        "\n",
        "odd_even_pdtdiff(1234)\n",
        "\n",
        "\n"
      ],
      "metadata": {
        "colab": {
          "base_uri": "https://localhost:8080/"
        },
        "id": "1JfsjQP_rrBC",
        "outputId": "5d65e2a0-d9b0-4740-de82-ab3273dceb61"
      },
      "execution_count": 13,
      "outputs": [
        {
          "output_type": "execute_result",
          "data": {
            "text/plain": [
              "-5"
            ]
          },
          "metadata": {},
          "execution_count": 13
        }
      ]
    },
    {
      "cell_type": "code",
      "source": [
        "#main function\n",
        "N = int(input(\"Enter a 4 digit number : \"))\n",
        "print(digitsum(N))\n",
        "print(reverse(N))\n",
        "print(odd_even_pdtdiff(N))"
      ],
      "metadata": {
        "colab": {
          "base_uri": "https://localhost:8080/"
        },
        "id": "Zx8eyDWAtmP_",
        "outputId": "52c0aaaa-d070-421a-cee4-141960f21fd1"
      },
      "execution_count": 14,
      "outputs": [
        {
          "output_type": "stream",
          "name": "stdout",
          "text": [
            "Enter a 4 digit number : 1234\n",
            "10\n",
            "4321\n",
            "-5\n"
          ]
        }
      ]
    }
  ]
}